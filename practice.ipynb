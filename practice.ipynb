{
 "cells": [
  {
   "cell_type": "markdown",
   "metadata": {},
   "source": [
    "# 01-variables1.md"
   ]
  },
  {
   "cell_type": "markdown",
   "metadata": {},
   "source": [
    "## 1. Write a program that uses a variable to store a number, then prints that number plus 10."
   ]
  },
  {
   "cell_type": "code",
   "execution_count": 1,
   "metadata": {},
   "outputs": [
    {
     "name": "stdout",
     "output_type": "stream",
     "text": [
      "16\n"
     ]
    }
   ],
   "source": [
    "number = 6\n",
    "print(number + 10)"
   ]
  },
  {
   "cell_type": "markdown",
   "metadata": {},
   "source": [
    "## 2. Write a program that uses a variable to store a word, then prints that word with all capital letters."
   ]
  },
  {
   "cell_type": "code",
   "execution_count": 2,
   "metadata": {},
   "outputs": [
    {
     "name": "stdout",
     "output_type": "stream",
     "text": [
      "HELLO\n"
     ]
    }
   ],
   "source": [
    "word = \"hello\"\n",
    "print(word.upper())"
   ]
  },
  {
   "cell_type": "markdown",
   "metadata": {},
   "source": [
    "## 3. Write a program that uses variables to store two numbers, then prints the numbers added together."
   ]
  },
  {
   "cell_type": "code",
   "execution_count": 3,
   "metadata": {},
   "outputs": [
    {
     "name": "stdout",
     "output_type": "stream",
     "text": [
      "9\n"
     ]
    }
   ],
   "source": [
    "num_1 = 3\n",
    "num_2 = 6\n",
    "print(num_1 + num_2)"
   ]
  },
  {
   "cell_type": "markdown",
   "metadata": {},
   "source": [
    "## 4. Write a program that uses a variable to store a word, then prints that word in reverse order."
   ]
  },
  {
   "cell_type": "code",
   "execution_count": 4,
   "metadata": {},
   "outputs": [
    {
     "name": "stdout",
     "output_type": "stream",
     "text": [
      "olleh\n"
     ]
    }
   ],
   "source": [
    "word = \"hello\"\n",
    "reversed = \"\"\n",
    "for i in range(1, len(word)):\n",
    "    # print(word[i * -1])\n",
    "    reversed += word[i * -1]\n",
    "# print(word[0])\n",
    "# print(\"===\")\n",
    "reversed += word[0]\n",
    "print(reversed)"
   ]
  },
  {
   "cell_type": "code",
   "execution_count": 5,
   "metadata": {},
   "outputs": [
    {
     "name": "stdout",
     "output_type": "stream",
     "text": [
      "dlrow\n"
     ]
    }
   ],
   "source": [
    "#   Alt\n",
    "word = \"world\"\n",
    "print(word[::-1])"
   ]
  },
  {
   "cell_type": "markdown",
   "metadata": {},
   "source": [
    "## 5. Write a program that uses a variable to store a number, then prints the number times 10."
   ]
  },
  {
   "cell_type": "code",
   "execution_count": 6,
   "metadata": {},
   "outputs": [
    {
     "name": "stdout",
     "output_type": "stream",
     "text": [
      "80\n"
     ]
    }
   ],
   "source": [
    "number = 8\n",
    "print(number * 10)"
   ]
  },
  {
   "cell_type": "markdown",
   "metadata": {},
   "source": [
    "## 6. Write a program that uses variables to store two words, then prints both words on the same line in all capital letters."
   ]
  },
  {
   "cell_type": "code",
   "execution_count": 7,
   "metadata": {},
   "outputs": [
    {
     "name": "stdout",
     "output_type": "stream",
     "text": [
      "HELLOWORLD\n"
     ]
    }
   ],
   "source": [
    "word_1 = \"hello\"\n",
    "word_2 = \"world\"\n",
    "print(word_1.upper() + word_2.upper())"
   ]
  },
  {
   "cell_type": "markdown",
   "metadata": {},
   "source": [
    "## 7. Write a program that uses a variable to store a word, then prints the number of letters in the word."
   ]
  },
  {
   "cell_type": "code",
   "execution_count": 8,
   "metadata": {},
   "outputs": [
    {
     "name": "stdout",
     "output_type": "stream",
     "text": [
      "45\n"
     ]
    }
   ],
   "source": [
    "word = \"Pneumonoultramicroscopicsilicovolcanoconiosis\"\n",
    "print(len(word))"
   ]
  },
  {
   "cell_type": "markdown",
   "metadata": {},
   "source": [
    "## 8. Write a program that uses a variable to store a number with decimals, then prints the number as an integer."
   ]
  },
  {
   "cell_type": "code",
   "execution_count": 9,
   "metadata": {},
   "outputs": [
    {
     "name": "stdout",
     "output_type": "stream",
     "text": [
      "3\n"
     ]
    }
   ],
   "source": [
    "number = 3.14159265\n",
    "print(int(number))"
   ]
  },
  {
   "cell_type": "markdown",
   "metadata": {},
   "source": [
    "# 01-variables2.md"
   ]
  },
  {
   "cell_type": "markdown",
   "metadata": {},
   "source": [
    "## 2. Write a program that uses variables to store a first and last name, then prints the full name in one line using string interpolation (the #{} operator)."
   ]
  },
  {
   "cell_type": "code",
   "execution_count": 10,
   "metadata": {},
   "outputs": [
    {
     "name": "stdout",
     "output_type": "stream",
     "text": [
      "Sherlock Holmes\n"
     ]
    }
   ],
   "source": [
    "first = \"Sherlock\"\n",
    "last = \"Holmes\"\n",
    "print(f\"{first} {last}\")"
   ]
  },
  {
   "cell_type": "markdown",
   "metadata": {},
   "source": [
    "## 3. Write a program that asks the user to input a word. If the word is \"marco\", print \"polo\"."
   ]
  },
  {
   "cell_type": "code",
   "execution_count": 11,
   "metadata": {},
   "outputs": [],
   "source": [
    "word = input(\"Please enter a word: \")\n",
    "if word == \"marco\":\n",
    "    print(\"polo\")"
   ]
  },
  {
   "cell_type": "markdown",
   "metadata": {},
   "source": [
    "## 4. Write a program that uses variables to store three different colors, then prints out a sentence using the colors with string concatenation (the + operator)."
   ]
  },
  {
   "cell_type": "code",
   "execution_count": 12,
   "metadata": {},
   "outputs": [
    {
     "name": "stdout",
     "output_type": "stream",
     "text": [
      "The colours are: red, green, and blue.\n"
     ]
    }
   ],
   "source": [
    "colour1 = \"red\"\n",
    "colour2 = \"green\"\n",
    "colour3 = \"blue\"\n",
    "print(\"The colours are: \" + colour1 + \", \" + colour2 + \", and \" + colour3 + \".\")"
   ]
  },
  {
   "cell_type": "markdown",
   "metadata": {},
   "source": [
    "## 5. Write a program that uses variables to store three different colors, then prints out a sentence using the colors with string interpolation (the #{} operator)."
   ]
  },
  {
   "cell_type": "code",
   "execution_count": 13,
   "metadata": {},
   "outputs": [
    {
     "name": "stdout",
     "output_type": "stream",
     "text": [
      "The colours are: red, green, and blue.\n"
     ]
    }
   ],
   "source": [
    "colour1 = \"red\"\n",
    "colour2 = \"green\"\n",
    "colour3 = \"blue\"\n",
    "print(f\"The colours are: {colour1}, {colour2}, and {colour3}.\")"
   ]
  },
  {
   "cell_type": "markdown",
   "metadata": {},
   "source": [
    "## 6. Write a program that asks the user to enter a name. If the name is not \"Santa\", print \"You're not Santa.\""
   ]
  },
  {
   "cell_type": "code",
   "execution_count": 14,
   "metadata": {},
   "outputs": [
    {
     "name": "stdout",
     "output_type": "stream",
     "text": [
      "You're not Santa.\n"
     ]
    }
   ],
   "source": [
    "name = input(\"What is your name?: \")\n",
    "if name != \"Santa\":\n",
    "    print(\"You're not Santa.\")"
   ]
  },
  {
   "cell_type": "markdown",
   "metadata": {},
   "source": [
    "## 9. Write a program that asks the user to enter a password. If the password is \"Joshua\", the program responds \"Shall we play a game?\". For any other password, the program responds \"Access denied\""
   ]
  },
  {
   "cell_type": "code",
   "execution_count": 17,
   "metadata": {},
   "outputs": [
    {
     "name": "stdout",
     "output_type": "stream",
     "text": [
      "Access denied\n"
     ]
    }
   ],
   "source": [
    "password = input(\"Please enter a password: \")\n",
    "if password == \"Joshua\":\n",
    "    print(\"Shall we play a game?\")\n",
    "else:\n",
    "    print(\"Access denied\")"
   ]
  },
  {
   "cell_type": "markdown",
   "metadata": {},
   "source": [
    "# 02-conditionals1.md"
   ]
  },
  {
   "cell_type": "markdown",
   "metadata": {},
   "source": [
    "## 2. Use a variable to store a number, then write a condition that prints -1 if the number is less than 10, prints 1 if the number is greater than 10, and prints 0 if the number is equal to 10."
   ]
  },
  {
   "cell_type": "code",
   "execution_count": 24,
   "metadata": {},
   "outputs": [
    {
     "name": "stdout",
     "output_type": "stream",
     "text": [
      "0\n",
      "10\n"
     ]
    }
   ],
   "source": [
    "import random\n",
    "\n",
    "number = random.randint(1, 20)\n",
    "if number < 10:\n",
    "    print(-1)\n",
    "elif number > 10:\n",
    "    print(1)\n",
    "else:\n",
    "    print(0)\n",
    "print(number)"
   ]
  },
  {
   "cell_type": "markdown",
   "metadata": {},
   "source": [
    "## 3. Use variables to store two numbers, then write a condition that prints 1 if the numbers are both less than 10, and prints 0 otherwise."
   ]
  },
  {
   "cell_type": "code",
   "execution_count": 35,
   "metadata": {},
   "outputs": [
    {
     "name": "stdout",
     "output_type": "stream",
     "text": [
      "1\n",
      "5 1\n"
     ]
    }
   ],
   "source": [
    "import random\n",
    "\n",
    "num1 = random.randint(1, 20)\n",
    "num2 = random.randint(1, 20)\n",
    "if num1 < 10 and num2 < 10:\n",
    "    print(1)\n",
    "else:\n",
    "    print(0)\n",
    "print(num1, num2)"
   ]
  },
  {
   "cell_type": "markdown",
   "metadata": {},
   "source": [
    "## 10. Use a variable to store a number, then write a condition that prints 5 if the number is greater than 80, prints 4 if the number is greater than 60, prints 3 if the number is greater than 40, prints 2 if the number is greater than 20, and prints 1 otherwise (only one print statement should occur)."
   ]
  },
  {
   "cell_type": "code",
   "execution_count": 43,
   "metadata": {},
   "outputs": [
    {
     "name": "stdout",
     "output_type": "stream",
     "text": [
      "4\n",
      "79\n"
     ]
    }
   ],
   "source": [
    "import random\n",
    "\n",
    "number = random.randint(1, 100)\n",
    "if number > 80:\n",
    "    print(5)\n",
    "elif number > 60:\n",
    "    print(4)\n",
    "elif number > 40:\n",
    "    print(3)\n",
    "elif number > 20:\n",
    "    print(2)\n",
    "else:\n",
    "    print(1)\n",
    "print(number)"
   ]
  },
  {
   "cell_type": "markdown",
   "metadata": {},
   "source": [
    "# 02-conditionals3.md"
   ]
  },
  {
   "cell_type": "markdown",
   "metadata": {},
   "source": [
    "## 1. Write a program that stores a customer's age and a movie's time in two separate variables. Then calculate the price of a movie ticket based on the following conditions:\n",
    "- If the age is 12 years old or younger, the ticket price is $5.\n",
    "- If the age is between 13 and 59 years old and the movie is before 6 PM, the ticket price is $7. After 6 PM, the ticket price is $10.\n",
    "- If the customer is 60 years old or older, the ticket price is $7."
   ]
  },
  {
   "cell_type": "code",
   "execution_count": 64,
   "metadata": {},
   "outputs": [
    {
     "name": "stdout",
     "output_type": "stream",
     "text": [
      "Age: 24, Time: 7, Price; 10\n"
     ]
    }
   ],
   "source": [
    "import random\n",
    "\n",
    "age = random.randint(4, 70)\n",
    "movie_time = random.randint(1, 10)\n",
    "\n",
    "if age <= 12:\n",
    "    price = 5\n",
    "elif (age >= 60) or (age > 13 and movie_time < 6):\n",
    "    price = 7\n",
    "else:\n",
    "    price = 10\n",
    "print(f\"Age: {age}, Time: {movie_time}, Price; {price}\")"
   ]
  },
  {
   "cell_type": "markdown",
   "metadata": {},
   "source": [
    "## 2. Write a program to store the type of book (regular, reference, or special collection) and the number of days its overdue. Then calculate the fine amount based on the following conditions:\n",
    "- If the book is a regular book and overdue by up to 7 days, the fine is $1 per day.\n",
    "- If the book is a regular book and overdue by more than 7 days, the fine is $2 per day.\n",
    "- If the book is a reference book, there is no fine, regardless of the number of days overdue.\n",
    "- If the book is a special collection book, the fine is $5 per day, regardless of the number of days overdue."
   ]
  },
  {
   "cell_type": "code",
   "execution_count": 86,
   "metadata": {},
   "outputs": [
    {
     "name": "stdout",
     "output_type": "stream",
     "text": [
      "Type: regular, Days Overdue: 14, Fine: 28\n"
     ]
    }
   ],
   "source": [
    "import random\n",
    "\n",
    "types = [\n",
    "    \"regular\",\n",
    "    \"reference\",\n",
    "    \"special collection\",\n",
    "]\n",
    "\n",
    "type = random.choice(types)\n",
    "overdue = random.randint(1, 14)\n",
    "\n",
    "fine = 0\n",
    "if type == \"special collection\":\n",
    "    fine = 5 * overdue\n",
    "elif type == \"regular\":\n",
    "    if overdue <= 7:\n",
    "        fine = overdue\n",
    "    else:\n",
    "        fine = overdue * 2\n",
    "\n",
    "print(f\"Type: {type}, Days Overdue: {overdue}, Fine: {fine}\")"
   ]
  },
  {
   "cell_type": "markdown",
   "metadata": {},
   "source": [
    "## 3. Write a program that stores a person's order value and membership level (regular or premium). Then calculate a discount amount based on the following conditions:\n",
    "- If the total order value is less than $50, there is no discount.\n",
    "- If the total order value is between $50 and $100, the discount is 5% for regular customers and 10% for premium customers.\n",
    "- If the total order value is greater than $100, the discount is 10% for regular customers and 15% for premium customers."
   ]
  },
  {
   "cell_type": "code",
   "execution_count": 98,
   "metadata": {},
   "outputs": [
    {
     "name": "stdout",
     "output_type": "stream",
     "text": [
      "Membership: regular, Order Value: 54, Discount: 0.05\n"
     ]
    }
   ],
   "source": [
    "import random\n",
    "\n",
    "membership_levels = [\"regular\", \"premium\"]\n",
    "\n",
    "membership = random.choice(membership_levels)\n",
    "order_value = random.randint(25, 125)\n",
    "\n",
    "if order_value >= 50 and order_value <= 100:\n",
    "    if membership == \"premium\":\n",
    "        discount = 0.10\n",
    "    else:\n",
    "        discount = 0.05\n",
    "elif order_value > 100:\n",
    "    if membership == \"premium\":\n",
    "        discount = 0.15\n",
    "    else:\n",
    "        discount = 0.10\n",
    "else:\n",
    "    discount = 0\n",
    "\n",
    "print(f\"Membership: {membership}, Order Value: {order_value}, Discount: {discount}\")"
   ]
  },
  {
   "cell_type": "markdown",
   "metadata": {},
   "source": [
    "## 4. Write a program that stores the weight of a package and the destination (domestic or international). Then calculate the shipping fee based on the following conditions:\n",
    "- If the destination is domestic:\n",
    "  - If the weight is less than or equal to 1 kg, the shipping fee is $5.\n",
    "  - If the weight is greater than 1 kg, the shipping fee is $10.\n",
    "- If the destination is an international shipment:\n",
    "  - If the weight is less than or equal to 1 kg, the shipping fee is $15.\n",
    "  - If the weight is greater than 1 kg, the shipping fee is $25."
   ]
  },
  {
   "cell_type": "code",
   "execution_count": 111,
   "metadata": {},
   "outputs": [
    {
     "name": "stdout",
     "output_type": "stream",
     "text": [
      "Destination: international, Weight: 1.1, Shipping: 25\n"
     ]
    }
   ],
   "source": [
    "import random\n",
    "\n",
    "destinations = [\"domestic\", \"international\"]\n",
    "destination = random.choice(destinations)\n",
    "weight = round(random.uniform(0.1, 2), 2)\n",
    "\n",
    "if destination == \"domestic\":\n",
    "    if weight <= 1:\n",
    "        shipping = 5\n",
    "    else:\n",
    "        shipping = 10\n",
    "elif destination == \"international\":\n",
    "    if weight <= 1:\n",
    "        shipping = 15\n",
    "    else:\n",
    "        shipping = 25\n",
    "    \n",
    "print(f\"Destination: {destination}, Weight: {weight}, Shipping: {shipping}\")"
   ]
  },
  {
   "cell_type": "markdown",
   "metadata": {},
   "source": [
    "# 03-loops1.md"
   ]
  },
  {
   "cell_type": "markdown",
   "metadata": {},
   "source": [
    "## 1. Write a while loop to print the numbers 1 through 10."
   ]
  },
  {
   "cell_type": "code",
   "execution_count": 112,
   "metadata": {},
   "outputs": [
    {
     "name": "stdout",
     "output_type": "stream",
     "text": [
      "1\n",
      "2\n",
      "3\n",
      "4\n",
      "5\n",
      "6\n",
      "7\n",
      "8\n",
      "9\n",
      "10\n"
     ]
    }
   ],
   "source": [
    "x = 1\n",
    "while x <= 10:\n",
    "    print(x)\n",
    "    x += 1"
   ]
  },
  {
   "cell_type": "markdown",
   "metadata": {},
   "source": [
    "## 2. Write a while loop that prints the word \"hello\" 5 times."
   ]
  },
  {
   "cell_type": "code",
   "execution_count": 115,
   "metadata": {},
   "outputs": [
    {
     "name": "stdout",
     "output_type": "stream",
     "text": [
      "hello\n",
      "hello\n",
      "hello\n",
      "hello\n",
      "hello\n"
     ]
    }
   ],
   "source": [
    "x = 1\n",
    "while x <= 5:\n",
    "    print(\"hello\")\n",
    "    x += 1"
   ]
  },
  {
   "cell_type": "code",
   "execution_count": 116,
   "metadata": {},
   "outputs": [
    {
     "name": "stdout",
     "output_type": "stream",
     "text": [
      "hello\n",
      "hello\n",
      "hello\n",
      "hello\n",
      "hello\n",
      "\n"
     ]
    }
   ],
   "source": [
    "# Alt\n",
    "print(f\"hello\\n\" * 5)"
   ]
  },
  {
   "cell_type": "markdown",
   "metadata": {},
   "source": [
    "## 3. Write a while loop that asks the user to enter a word and will run forever until the user enters the word \"stop\"."
   ]
  },
  {
   "cell_type": "code",
   "execution_count": 118,
   "metadata": {},
   "outputs": [],
   "source": [
    "word = input(\"Please enter a word: \")\n",
    "while word != \"stop\":\n",
    "    word = input(\"Please enter a word: \")"
   ]
  },
  {
   "cell_type": "code",
   "execution_count": null,
   "metadata": {},
   "outputs": [],
   "source": [
    "# Alt\n",
    "while True:\n",
    "    word = input(\"Enter a word: \")\n",
    "    if word == \"stop\":\n",
    "        break"
   ]
  },
  {
   "cell_type": "markdown",
   "metadata": {},
   "source": [
    "# 03-loops2.md"
   ]
  },
  {
   "cell_type": "markdown",
   "metadata": {},
   "source": [
    "## 1. Start with an array of numbers and create a new array with each number times 3.\n",
    "For example, [1, 2, 3] becomes [3, 6, 9]."
   ]
  },
  {
   "cell_type": "code",
   "execution_count": 119,
   "metadata": {},
   "outputs": [
    {
     "name": "stdout",
     "output_type": "stream",
     "text": [
      "[3, 6, 9]\n"
     ]
    }
   ],
   "source": [
    "array = [1, 2, 3]\n",
    "new_array = []\n",
    "for number in array:\n",
    "    new_array.append(number * 3)\n",
    "\n",
    "print(new_array)"
   ]
  },
  {
   "cell_type": "code",
   "execution_count": 120,
   "metadata": {},
   "outputs": [
    {
     "name": "stdout",
     "output_type": "stream",
     "text": [
      "[3, 6, 9]\n"
     ]
    }
   ],
   "source": [
    "# Alt\n",
    "array = [1, 2, 3]\n",
    "new_array = [number * 3 for number in array]\n",
    "print(new_array)"
   ]
  },
  {
   "cell_type": "markdown",
   "metadata": {},
   "source": [
    "## 2. Start with an array of strings and create a new array with each string upcased.\n",
    "For example, [\"hello\", \"goodbye\"] becomes [\"HELLO\", \"GOODBYE\"]."
   ]
  },
  {
   "cell_type": "code",
   "execution_count": 122,
   "metadata": {},
   "outputs": [
    {
     "name": "stdout",
     "output_type": "stream",
     "text": [
      "['HELLO', 'GOODBYE']\n"
     ]
    }
   ],
   "source": [
    "array = [\"hello\", \"goodbye\"]\n",
    "new_array = [word.upper() for word in array]\n",
    "print(new_array)"
   ]
  },
  {
   "cell_type": "markdown",
   "metadata": {},
   "source": [
    "## 3. Start with an array of hashes and create a new array of string values from each hash's :name key.\n",
    "For example, [{name: \"Alice\", age: 27}, {name: \"Blane\", age: 16}] becomes [\"Alice\", \"Blane\"]."
   ]
  },
  {
   "cell_type": "code",
   "execution_count": 130,
   "metadata": {},
   "outputs": [
    {
     "name": "stdout",
     "output_type": "stream",
     "text": [
      "['Alice', 'Blane']\n"
     ]
    }
   ],
   "source": [
    "people = [{\"name\": \"Alice\", \"age\": 27}, {\"name\": \"Blane\", \"age\": 16}]\n",
    "names = [person[\"name\"] for person in people]\n",
    "print(names)"
   ]
  },
  {
   "cell_type": "markdown",
   "metadata": {},
   "source": [
    "## 4. Start with an array of numbers and create a new array with each number plus 7.\n",
    "For example, [1, 2, 3] becomes [8, 9, 10]."
   ]
  },
  {
   "cell_type": "code",
   "execution_count": 131,
   "metadata": {},
   "outputs": [
    {
     "name": "stdout",
     "output_type": "stream",
     "text": [
      "[8, 9, 10]\n"
     ]
    }
   ],
   "source": [
    "numbers = [1, 2, 3]\n",
    "add_7 = [number + 7 for number in numbers]\n",
    "print(add_7)"
   ]
  },
  {
   "cell_type": "markdown",
   "metadata": {},
   "source": [
    "## 5. Start with an array of strings and create a new array with each string's length.\n",
    "For example, [\"hello\", \"goodbye\"] becomes [5, 7]."
   ]
  },
  {
   "cell_type": "code",
   "execution_count": 134,
   "metadata": {},
   "outputs": [
    {
     "name": "stdout",
     "output_type": "stream",
     "text": [
      "[5, 7]\n"
     ]
    }
   ],
   "source": [
    "strings = [\"hello\", \"goodbye\"]\n",
    "new_array = [len(string) for string in strings]\n",
    "print(new_array)"
   ]
  },
  {
   "cell_type": "markdown",
   "metadata": {},
   "source": [
    "## 6. Start with an array of hashes and create a new array of number values from each hash's :age key.\n",
    "For example, [{name: \"Alice\", age: 27}, {name: \"Blane\", age: 16}] becomes [27, 16]."
   ]
  },
  {
   "cell_type": "code",
   "execution_count": 135,
   "metadata": {},
   "outputs": [
    {
     "name": "stdout",
     "output_type": "stream",
     "text": [
      "[27, 16]\n"
     ]
    }
   ],
   "source": [
    "people = [{\"name\": \"Alice\", \"age\": 27}, {\"name\": \"Blane\", \"age\": 16}]\n",
    "ages = [person[\"age\"] for person in people]\n",
    "print(ages)"
   ]
  },
  {
   "cell_type": "markdown",
   "metadata": {},
   "source": [
    "## 7. Start with an array of numbers and create a new array with each number divided by 2.\n",
    "For example, [1, 2, 3] becomes [0.5, 1.0, 1.5]."
   ]
  },
  {
   "cell_type": "code",
   "execution_count": 136,
   "metadata": {},
   "outputs": [
    {
     "name": "stdout",
     "output_type": "stream",
     "text": [
      "[0.5, 1.0, 1.5]\n"
     ]
    }
   ],
   "source": [
    "numbers = [1, 2, 3]\n",
    "halved = [number / 2 for number in numbers]\n",
    "print(halved)"
   ]
  },
  {
   "cell_type": "markdown",
   "metadata": {},
   "source": [
    "## 8. Start with an array of strings and create a new array with each string's first letter only.\n",
    "For example, [\"hello\", \"goodbye\"] becomes [\"h\", \"g\"]."
   ]
  },
  {
   "cell_type": "code",
   "execution_count": 137,
   "metadata": {},
   "outputs": [
    {
     "name": "stdout",
     "output_type": "stream",
     "text": [
      "['h', 'g']\n"
     ]
    }
   ],
   "source": [
    "strings = [\"hello\", \"goodbye\"]\n",
    "first_letters = [string[0] for string in strings]\n",
    "print(first_letters)"
   ]
  },
  {
   "cell_type": "markdown",
   "metadata": {},
   "source": [
    "## 9. Start with an array of hashes and create a new array of number values from each hash's :age key times 2.\n",
    "For example, [{name: \"Alice\", age: 27}, {name: \"Blane\", age: 16}] becomes [54, 32]."
   ]
  },
  {
   "cell_type": "code",
   "execution_count": 138,
   "metadata": {},
   "outputs": [
    {
     "name": "stdout",
     "output_type": "stream",
     "text": [
      "[54, 32]\n"
     ]
    }
   ],
   "source": [
    "people = [{\"name\": \"Alice\", \"age\": 27}, {\"name\": \"Blane\", \"age\": 16}]\n",
    "double_ages = [person[\"age\"] * 2 for person in people]\n",
    "print(double_ages)"
   ]
  },
  {
   "cell_type": "markdown",
   "metadata": {},
   "source": [
    "## 10. Start with an array of numbers and create a new array with each number converted into a string.\n",
    "For example, [1, 2, 3] becomes [\"1\", \"2\", \"3\"]."
   ]
  },
  {
   "cell_type": "code",
   "execution_count": 139,
   "metadata": {},
   "outputs": [
    {
     "name": "stdout",
     "output_type": "stream",
     "text": [
      "['1', '2', '3']\n"
     ]
    }
   ],
   "source": [
    "numbers = [1, 2, 3]\n",
    "strings = [str(number) for number in numbers]\n",
    "print(strings)"
   ]
  },
  {
   "cell_type": "markdown",
   "metadata": {},
   "source": [
    "# 03-loops3.md"
   ]
  },
  {
   "cell_type": "markdown",
   "metadata": {},
   "source": [
    "## 1. Start with an array of numbers and create a new array with only the numbers less than 20.\n",
    "For example, [2, 32, 80, 18, 12, 3] becomes [2, 18, 12, 3]."
   ]
  },
  {
   "cell_type": "code",
   "execution_count": 140,
   "metadata": {},
   "outputs": [
    {
     "name": "stdout",
     "output_type": "stream",
     "text": [
      "[2, 18, 12, 3]\n"
     ]
    }
   ],
   "source": [
    "numbers = [2, 32, 80, 18, 12, 3]\n",
    "less_than_three = [number for number in numbers if number < 20]\n",
    "print(less_than_three)"
   ]
  },
  {
   "cell_type": "markdown",
   "metadata": {},
   "source": [
    "## 2. Start with an array of strings and create a new array with only the strings that start with the letter \"w\".\n",
    "For example, [\"winner\", \"winner\", \"chicken\", \"dinner\"] becomes [\"winner\", \"winner\"]."
   ]
  },
  {
   "cell_type": "code",
   "execution_count": 141,
   "metadata": {},
   "outputs": [
    {
     "name": "stdout",
     "output_type": "stream",
     "text": [
      "['winner', 'winner']\n"
     ]
    }
   ],
   "source": [
    "strings = [\"winner\", \"winner\", \"chicken\", \"dinner\"]\n",
    "w_strings = [string for string in strings if string.startswith(\"w\")]\n",
    "print(w_strings)"
   ]
  },
  {
   "cell_type": "markdown",
   "metadata": {},
   "source": [
    "## 3. Start with an array of hashes and create a new array with only the hashes with prices greater than 5 (from the :price key).\n",
    "For example, [{name: \"chair\", price: 100}, {name: \"pencil\", price: 1}, {name: \"book\", price: 4}] becomes [{name: \"chair\", price: 100}]."
   ]
  },
  {
   "cell_type": "code",
   "execution_count": 142,
   "metadata": {},
   "outputs": [
    {
     "name": "stdout",
     "output_type": "stream",
     "text": [
      "[{'name': 'chair', 'price': 100}]\n"
     ]
    }
   ],
   "source": [
    "items = [\n",
    "    {\"name\": \"chair\", \"price\": 100},\n",
    "    {\"name\": \"pencil\", \"price\": 1},\n",
    "    {\"name\": \"book\", \"price\": 4}\n",
    "]\n",
    "expensive_items = [item for item in items if item[\"price\"] > 5]\n",
    "print(expensive_items)"
   ]
  },
  {
   "cell_type": "markdown",
   "metadata": {},
   "source": [
    "## 4. Start with an array of numbers and create a new array with only the even numbers.\n",
    "For example, [2, 4, 5, 1, 8, 9, 7] becomes [2, 4, 8]."
   ]
  },
  {
   "cell_type": "code",
   "execution_count": 143,
   "metadata": {},
   "outputs": [
    {
     "name": "stdout",
     "output_type": "stream",
     "text": [
      "[2, 4, 8]\n"
     ]
    }
   ],
   "source": [
    "numbers = [2, 4, 5, 1, 8, 9, 7]\n",
    "even = [number for number in numbers if number % 2 == 0]\n",
    "print(even)"
   ]
  },
  {
   "cell_type": "markdown",
   "metadata": {},
   "source": [
    "## 5. Start with an array of strings and create a new array with only the strings shorter than 4 letters.\n",
    "For example, [\"a\", \"man\", \"a\", \"plan\", \"a\", \"canal\", \"panama\"] becomes [\"a\", \"man\", \"a\", \"a\"]."
   ]
  },
  {
   "cell_type": "code",
   "execution_count": 144,
   "metadata": {},
   "outputs": [
    {
     "name": "stdout",
     "output_type": "stream",
     "text": [
      "['a', 'man', 'a', 'a']\n"
     ]
    }
   ],
   "source": [
    "strings = [\"a\", \"man\", \"a\", \"plan\", \"a\", \"canal\", \"panama\"]\n",
    "short = [string for string in strings if len(string) < 4]\n",
    "print(short)"
   ]
  },
  {
   "cell_type": "markdown",
   "metadata": {},
   "source": [
    "## 6. Start with an array of hashes and create a new array with only the hashes with names shorter than 6 letters (from the :name key).\n",
    "For example, [{name: \"chair\", price: 100}, {name: \"pencil\", price: 1}, {name: \"book\", price: 4}] becomes [{name: \"chair\", price: 100}, {name: \"book\", price: 4}]."
   ]
  },
  {
   "cell_type": "code",
   "execution_count": 145,
   "metadata": {},
   "outputs": [
    {
     "name": "stdout",
     "output_type": "stream",
     "text": [
      "[{'name': 'chair', 'price': 100}, {'name': 'book', 'price': 4}]\n"
     ]
    }
   ],
   "source": [
    "items = [\n",
    "    {\"name\": \"chair\", \"price\": 100},\n",
    "    {\"name\": \"pencil\", \"price\": 1},\n",
    "    {\"name\": \"book\", \"price\": 4}\n",
    "]\n",
    "short_names = [item for item in items if len(item[\"name\"]) < 6]\n",
    "print(short_names)"
   ]
  },
  {
   "cell_type": "markdown",
   "metadata": {},
   "source": [
    "## 7. Start with an array of numbers and create a new array with only the numbers greater than or equal to 23.\n",
    "For example, [8, 23, 0, 44, 1980, 3] becomes [23, 44, 1980]."
   ]
  },
  {
   "cell_type": "code",
   "execution_count": 146,
   "metadata": {},
   "outputs": [
    {
     "name": "stdout",
     "output_type": "stream",
     "text": [
      "[23, 44, 1980]\n"
     ]
    }
   ],
   "source": [
    "numbers = [8, 23, 0, 44, 1980, 3]\n",
    "large = [number for number in numbers if number >= 23]\n",
    "print(large)"
   ]
  },
  {
   "cell_type": "markdown",
   "metadata": {},
   "source": [
    "## 8. Start with an array of strings and create a new array with only the strings that don't start with the letter \"b\".\n",
    "For example, [\"big\", \"little\", \"good\", \"bad\"] becomes [\"little\", \"good\"]."
   ]
  },
  {
   "cell_type": "code",
   "execution_count": 147,
   "metadata": {},
   "outputs": [
    {
     "name": "stdout",
     "output_type": "stream",
     "text": [
      "['little', 'good']\n"
     ]
    }
   ],
   "source": [
    "strings = [\"big\", \"little\", \"good\", \"bad\"]\n",
    "not_b = [word for word in strings if word[0] != \"b\"]\n",
    "print(not_b)"
   ]
  },
  {
   "cell_type": "markdown",
   "metadata": {},
   "source": [
    "## 9. Start with an array of hashes and create a new array with only the hashes with prices less than 10 (from the :price key).\n",
    "For example, [{name: \"chair\", price: 100}, {name: \"pencil\", price: 1}, {name: \"book\", price: 4}] becomes [{name: \"pencil\", price: 1}, {name: \"book\", price: 4}]."
   ]
  },
  {
   "cell_type": "code",
   "execution_count": 148,
   "metadata": {},
   "outputs": [
    {
     "name": "stdout",
     "output_type": "stream",
     "text": [
      "[{'name': 'pencil', 'price': 1}, {'name': 'book', 'price': 4}]\n"
     ]
    }
   ],
   "source": [
    "items = [\n",
    "    {\"name\": \"chair\", \"price\": 100},\n",
    "    {\"name\": \"pencil\", \"price\": 1},\n",
    "    {\"name\": \"book\", \"price\": 4}\n",
    "]\n",
    "inexpensive = [item for item in items if item[\"price\"] < 10]\n",
    "print(inexpensive)"
   ]
  },
  {
   "cell_type": "markdown",
   "metadata": {},
   "source": [
    "## 10. Start with an array of numbers and create a new array with only the odd numbers.\n",
    "For example, [2, 4, 5, 1, 8, 9, 7] becomes [5, 1, 9, 7]."
   ]
  },
  {
   "cell_type": "code",
   "execution_count": 150,
   "metadata": {},
   "outputs": [
    {
     "name": "stdout",
     "output_type": "stream",
     "text": [
      "[5, 1, 9, 7]\n"
     ]
    }
   ],
   "source": [
    "numbers = [2, 4, 5, 1, 8, 9, 7]\n",
    "odd = [number for number in numbers if number % 2 == 1]\n",
    "print(odd)"
   ]
  },
  {
   "cell_type": "markdown",
   "metadata": {},
   "source": [
    "# 03-loops4.md"
   ]
  },
  {
   "cell_type": "markdown",
   "metadata": {},
   "source": [
    "## 1. Start with an array of numbers and compute the sum of all the numbers.\n",
    "For example, [5, 10, 8, 3] becomes 26."
   ]
  },
  {
   "cell_type": "code",
   "execution_count": 154,
   "metadata": {},
   "outputs": [
    {
     "name": "stdout",
     "output_type": "stream",
     "text": [
      "26\n"
     ]
    }
   ],
   "source": [
    "numbers = [5, 10, 8, 3]\n",
    "sum = 0\n",
    "for number in numbers:\n",
    "    sum += number\n",
    "print(sum)"
   ]
  },
  {
   "cell_type": "markdown",
   "metadata": {},
   "source": [
    "## 2. Start with an array of strings and combine them all into a single string.\n",
    "For example, [\"volleyball\", \"basketball\", \"badminton\"] becomes \"volleyballbasketballbadminton\"."
   ]
  },
  {
   "cell_type": "code",
   "execution_count": 156,
   "metadata": {},
   "outputs": [
    {
     "name": "stdout",
     "output_type": "stream",
     "text": [
      "volleyballbasketballbadminton\n"
     ]
    }
   ],
   "source": [
    "sports = [\"volleyball\", \"basketball\", \"badminton\"]\n",
    "string = \"\"\n",
    "for sport in sports:\n",
    "    string += sport\n",
    "print(string)"
   ]
  },
  {
   "cell_type": "markdown",
   "metadata": {},
   "source": [
    "## 3. Start with an array of hashes and compute the sum of the prices (from the :price key).\n",
    "For example, [{name: \"chair\", price: 100}, {name: \"pencil\", price: 1}, {name: \"book\", price: 4}] becomes 105."
   ]
  },
  {
   "cell_type": "code",
   "execution_count": 157,
   "metadata": {},
   "outputs": [
    {
     "name": "stdout",
     "output_type": "stream",
     "text": [
      "105\n"
     ]
    }
   ],
   "source": [
    "items = [\n",
    "    {\"name\": \"chair\", \"price\": 100},\n",
    "    {\"name\": \"pencil\", \"price\": 1},\n",
    "    {\"name\": \"book\", \"price\": 4}\n",
    "]\n",
    "sum = 0\n",
    "for item in items:\n",
    "    sum += item[\"price\"]\n",
    "print(sum)"
   ]
  },
  {
   "cell_type": "markdown",
   "metadata": {},
   "source": [
    "## 4. Start with an array of numbers and compute the the minimum number.\n",
    "For example, [5, 10, 8, 3, 9] becomes 3."
   ]
  },
  {
   "cell_type": "code",
   "execution_count": 161,
   "metadata": {},
   "outputs": [
    {
     "name": "stdout",
     "output_type": "stream",
     "text": [
      "3\n"
     ]
    }
   ],
   "source": [
    "numbers = [5, 10, 8, 3, 9]\n",
    "min = numbers[0]\n",
    "i = 1\n",
    "while i < len(numbers):\n",
    "    if numbers[i] < min:\n",
    "        min = numbers[i]\n",
    "    i += 1\n",
    "print(min)"
   ]
  },
  {
   "cell_type": "markdown",
   "metadata": {},
   "source": [
    "## 5. Start with an array of strings and compute the total length of all the strings.\n",
    "For example, [\"volleyball\", \"basketball\", \"badminton\"] becomes 29."
   ]
  },
  {
   "cell_type": "code",
   "execution_count": 162,
   "metadata": {},
   "outputs": [
    {
     "name": "stdout",
     "output_type": "stream",
     "text": [
      "29\n"
     ]
    }
   ],
   "source": [
    "sports = [\"volleyball\", \"basketball\", \"badminton\"]\n",
    "sum = 0\n",
    "for sport in sports:\n",
    "    sum += len(sport)\n",
    "print(sum)"
   ]
  },
  {
   "cell_type": "markdown",
   "metadata": {},
   "source": [
    "## 6. Start with an array of hashes and find the hash with the lowest price (from the :price key).\n",
    "For example, [{name: \"chair\", price: 100}, {name: \"pencil\", price: 1}, {name: \"book\", price: 4}] becomes {name: \"pencil\", price: 1}."
   ]
  },
  {
   "cell_type": "code",
   "execution_count": 164,
   "metadata": {},
   "outputs": [
    {
     "name": "stdout",
     "output_type": "stream",
     "text": [
      "{'name': 'pencil', 'price': 1}\n"
     ]
    }
   ],
   "source": [
    "items = [\n",
    "    {\"name\": \"chair\", \"price\": 100},\n",
    "    {\"name\": \"pencil\", \"price\": 1},\n",
    "    {\"name\": \"book\", \"price\": 4}\n",
    "]\n",
    "lowest = items[0]\n",
    "for item in items:\n",
    "    if item[\"price\"] < lowest[\"price\"]:\n",
    "        lowest = item\n",
    "print(lowest)"
   ]
  },
  {
   "cell_type": "markdown",
   "metadata": {},
   "source": [
    "## 7. Start with an array of numbers and compute product of all the numbers.\n",
    "For example, [5, 10, 8, 3] becomes 1200."
   ]
  },
  {
   "cell_type": "code",
   "execution_count": 165,
   "metadata": {},
   "outputs": [
    {
     "name": "stdout",
     "output_type": "stream",
     "text": [
      "1200\n"
     ]
    }
   ],
   "source": [
    "numbers = [5, 10, 8, 3]\n",
    "product = 1\n",
    "for number in numbers:\n",
    "    product *= number\n",
    "print(product)"
   ]
  },
  {
   "cell_type": "markdown",
   "metadata": {},
   "source": [
    "## 8. Start with an array of strings and combine them all into a single string, separated by dashes.\n",
    "For example, [\"volleyball\", \"basketball\", \"badminton\"] becomes \"-volleyball-basketball-badminton-\"."
   ]
  },
  {
   "cell_type": "code",
   "execution_count": 168,
   "metadata": {},
   "outputs": [
    {
     "name": "stdout",
     "output_type": "stream",
     "text": [
      "-volleyball-basketball-badminton-\n"
     ]
    }
   ],
   "source": [
    "sports = [\"volleyball\", \"basketball\", \"badminton\"]\n",
    "string = \"-\"\n",
    "for sport in sports:\n",
    "    string += sport + \"-\"\n",
    "print(string)"
   ]
  },
  {
   "cell_type": "markdown",
   "metadata": {},
   "source": [
    "## 9. Start with an array of hashes and find the hash with the shortest name (from the :name key).\n",
    "For example, [{name: \"chair\", price: 100}, {name: \"pencil\", price: 1}, {name: \"book\", price: 4}] becomes {name: \"book\", price: 4}."
   ]
  },
  {
   "cell_type": "code",
   "execution_count": 169,
   "metadata": {},
   "outputs": [
    {
     "name": "stdout",
     "output_type": "stream",
     "text": [
      "{'name': 'book', 'price': 4}\n"
     ]
    }
   ],
   "source": [
    "items = [\n",
    "    {\"name\": \"chair\", \"price\": 100},\n",
    "    {\"name\": \"pencil\", \"price\": 1},\n",
    "    {\"name\": \"book\", \"price\": 4}\n",
    "]\n",
    "shortest = items[0]\n",
    "for item in items:\n",
    "    if len(item[\"name\"]):\n",
    "        shortest = item\n",
    "print(shortest)"
   ]
  },
  {
   "cell_type": "markdown",
   "metadata": {},
   "source": [
    "## 10. Start with an array of numbers and compute the maximum number.\n",
    "For example, [5, 10, 8, 3] becomes 10."
   ]
  },
  {
   "cell_type": "code",
   "execution_count": 170,
   "metadata": {},
   "outputs": [
    {
     "name": "stdout",
     "output_type": "stream",
     "text": [
      "10\n"
     ]
    }
   ],
   "source": [
    "numbers = [5, 10, 8, 3]\n",
    "max = numbers[0]\n",
    "for number in numbers:\n",
    "    if number > max:\n",
    "        max = number\n",
    "print(max)"
   ]
  },
  {
   "cell_type": "markdown",
   "metadata": {},
   "source": [
    "# 03-loops5.md"
   ]
  },
  {
   "cell_type": "markdown",
   "metadata": {},
   "source": [
    "## 1. Use a nested loop to convert an array of number pairs into a single flattened array.\n",
    "For example, [[1, 3], [8, 9], [2, 16]] becomes [1, 3, 8, 9, 2, 16]."
   ]
  },
  {
   "cell_type": "code",
   "execution_count": 178,
   "metadata": {},
   "outputs": [
    {
     "name": "stdout",
     "output_type": "stream",
     "text": [
      "[1, 3, 8, 9, 2, 16]\n"
     ]
    }
   ],
   "source": [
    "nested = [[1, 3], [8, 9], [2, 16]]\n",
    "flat = []\n",
    "for pair in nested:\n",
    "    for number in pair:\n",
    "        flat.append(number)\n",
    "print(flat)"
   ]
  },
  {
   "cell_type": "markdown",
   "metadata": {},
   "source": [
    "## 2. Use a nested loop with two arrays of strings to create a new array of strings with each string combined.\n",
    "For example, [\"a\", \"b\", \"c\"] and [\"d\", \"e\", \"f\", \"g\"] becomes [\"ad\", \"ae\", \"af\", \"ag\", \"bd\", \"be\", \"bf\", \"bg\", \"cd\", \"ce\", \"cf\", \"cg\"]."
   ]
  },
  {
   "cell_type": "code",
   "execution_count": 179,
   "metadata": {},
   "outputs": [
    {
     "name": "stdout",
     "output_type": "stream",
     "text": [
      "['ad', 'ae', 'af', 'ag', 'bd', 'be', 'bf', 'bg', 'cd', 'ce', 'cf', 'cg']\n"
     ]
    }
   ],
   "source": [
    "foo = [\"a\", \"b\", \"c\"]\n",
    "bar = [\"d\", \"e\", \"f\", \"g\"]\n",
    "baz = []\n",
    "for f_string in foo:\n",
    "    for b_string in bar:\n",
    "        baz.append(f_string + b_string)\n",
    "print(baz)"
   ]
  },
  {
   "cell_type": "markdown",
   "metadata": {},
   "source": [
    "## 3. Use a nested loop with one array of strings to create a new array that contains every combination of each string with every other string in the array.\n",
    "For example, [\"a\", \"b\", \"c\", \"d\"] becomes [\"ab\", \"ac\", \"ad\", \"ba\", \"bc\", \"bd\", \"ca\", \"cb\", \"cd\", \"da\", \"db\", \"dc\"]."
   ]
  },
  {
   "cell_type": "code",
   "execution_count": 180,
   "metadata": {},
   "outputs": [
    {
     "name": "stdout",
     "output_type": "stream",
     "text": [
      "['ab', 'ac', 'ad', 'ba', 'bc', 'bd', 'ca', 'cb', 'cd', 'da', 'db', 'dc']\n"
     ]
    }
   ],
   "source": [
    "strings = [\"a\", \"b\", \"c\", \"d\"]\n",
    "combined = []\n",
    "for letter in strings:\n",
    "    for other_letter in strings:\n",
    "        if letter != other_letter:\n",
    "            combined.append(letter + other_letter)\n",
    "print(combined)"
   ]
  },
  {
   "cell_type": "markdown",
   "metadata": {},
   "source": [
    "## 4. Use a nested loop to find the largest product of any two different numbers within a given array.\n",
    "For example, [5, -2, 1, -9, -7, 2, 6] becomes 63."
   ]
  },
  {
   "cell_type": "code",
   "execution_count": 188,
   "metadata": {},
   "outputs": [
    {
     "name": "stdout",
     "output_type": "stream",
     "text": [
      "63\n"
     ]
    }
   ],
   "source": [
    "numbers = [5, -2, 1, -9, -7, 2, 6]\n",
    "max_product = numbers[0] * numbers[1]\n",
    "for number in numbers:\n",
    "    for other_number in numbers:\n",
    "        if number != other_number:\n",
    "            product = number * other_number\n",
    "            if max_product < product:\n",
    "                max_product = product\n",
    "print(max_product)"
   ]
  },
  {
   "cell_type": "markdown",
   "metadata": {},
   "source": [
    "## 5. Use a nested loop to compute the sum of all the numbers in an array of number pairs.\n",
    "For example, [[1, 3], [8, 9], [2, 16]] becomes 39."
   ]
  },
  {
   "cell_type": "code",
   "execution_count": 191,
   "metadata": {},
   "outputs": [
    {
     "name": "stdout",
     "output_type": "stream",
     "text": [
      "39\n"
     ]
    }
   ],
   "source": [
    "pairs = [[1, 3], [8, 9], [2, 16]]\n",
    "_sum = 0\n",
    "for pair in pairs:\n",
    "    for number in pair:\n",
    "        _sum += number\n",
    "print(_sum)"
   ]
  },
  {
   "cell_type": "markdown",
   "metadata": {},
   "source": [
    "## 6. Use a nested loop with two arrays of numbers to create a new array of the sums of each combination of numbers.\n",
    "For example, [1, 2] and [6, 7, 8] becomes [7, 8, 9, 8, 9, 10]."
   ]
  },
  {
   "cell_type": "code",
   "execution_count": 193,
   "metadata": {},
   "outputs": [
    {
     "name": "stdout",
     "output_type": "stream",
     "text": [
      "[7, 8, 9, 8, 9, 10]\n"
     ]
    }
   ],
   "source": [
    "foo = [1, 2]\n",
    "bar = [6, 7, 8]\n",
    "baz = []\n",
    "for f_num in foo:\n",
    "    for b_num in bar:\n",
    "        baz.append(f_num + b_num)\n",
    "print(baz)"
   ]
  },
  {
   "cell_type": "markdown",
   "metadata": {},
   "source": [
    "## 7. Use a nested loop with an array of numbers to compute an array with every combination of products from each number.\n",
    "For example, [2, 8, 3] becomes [4, 16, 6, 16, 64, 24, 6, 24, 9]."
   ]
  },
  {
   "cell_type": "code",
   "execution_count": 194,
   "metadata": {},
   "outputs": [
    {
     "name": "stdout",
     "output_type": "stream",
     "text": [
      "[4, 16, 6, 16, 64, 24, 6, 24, 9]\n"
     ]
    }
   ],
   "source": [
    "numbers = [2, 8, 3]\n",
    "products = []\n",
    "for number in numbers:\n",
    "    for other_number in numbers:\n",
    "        products.append(number * other_number)\n",
    "print(products)"
   ]
  },
  {
   "cell_type": "markdown",
   "metadata": {},
   "source": [
    "## 8. Use a nested loop to find the largest sum of any two different numbers within an array.\n",
    "For example, [1, 8, 3, 10] becomes 18."
   ]
  },
  {
   "cell_type": "code",
   "execution_count": 197,
   "metadata": {},
   "outputs": [
    {
     "name": "stdout",
     "output_type": "stream",
     "text": [
      "18\n"
     ]
    }
   ],
   "source": [
    "numbers = [1, 8, 3, 10]\n",
    "largest = numbers[0] + numbers[1]\n",
    "for foo in numbers:\n",
    "    for bar in numbers:\n",
    "        if foo != bar:\n",
    "            _sum = foo + bar\n",
    "            if largest < _sum:\n",
    "                largest = _sum\n",
    "print(largest)"
   ]
  },
  {
   "cell_type": "markdown",
   "metadata": {},
   "source": [
    "## 9. Use nested loops with an array of numbers to compute a new array containing the first two numbers (from the original array) that add up to the number 10. If there are no two numbers that add up to 10, return false.\n",
    "For example, [2, 5, 3, 1, 0, 7, 11] becomes [3, 7]."
   ]
  },
  {
   "cell_type": "code",
   "execution_count": 205,
   "metadata": {},
   "outputs": [
    {
     "name": "stdout",
     "output_type": "stream",
     "text": [
      "[3, 7]\n"
     ]
    }
   ],
   "source": [
    "numbers = [2, 5, 3, 1, 0, 7, 11]\n",
    "ten = []\n",
    "for foo in numbers:\n",
    "    for bar in numbers:\n",
    "        if (ten == []) and (foo != bar) and (foo + bar == 10):\n",
    "            ten = [foo, bar]\n",
    "print(ten)\n"
   ]
  },
  {
   "cell_type": "markdown",
   "metadata": {},
   "source": [
    "## 10. Use a nested loop to convert an array of string arrays into a single string.\n",
    "For example, [[\"a\", \"man\"], [\"a\", \"plan\"], [\"a\", \"canal\"], [\"panama\"]] becomes \"amanaplanacanalpanama\"."
   ]
  },
  {
   "cell_type": "code",
   "execution_count": 206,
   "metadata": {},
   "outputs": [
    {
     "name": "stdout",
     "output_type": "stream",
     "text": [
      "amanaplanacanalpanama\n"
     ]
    }
   ],
   "source": [
    "string_arrays = [[\"a\", \"man\"], [\"a\", \"plan\"], [\"a\", \"canal\"], [\"panama\"]]\n",
    "string = \"\"\n",
    "for sub_array in string_arrays:\n",
    "    for item in sub_array:\n",
    "        string += item\n",
    "print(string)"
   ]
  },
  {
   "cell_type": "markdown",
   "metadata": {},
   "source": [
    "# 04-arrays-hashes1.md"
   ]
  },
  {
   "cell_type": "markdown",
   "metadata": {},
   "source": [
    "## 1. Create an array to store 3 words. Then add two more words to the array and print the array on one line."
   ]
  },
  {
   "cell_type": "code",
   "execution_count": 207,
   "metadata": {},
   "outputs": [
    {
     "name": "stdout",
     "output_type": "stream",
     "text": [
      "['guitar', 'piano', 'flute', 'ukelele', 'violin']\n"
     ]
    }
   ],
   "source": [
    "words = [\"guitar\", \"piano\", \"flute\"]\n",
    "words.append(\"ukelele\")\n",
    "words.append(\"violin\")\n",
    "print(words)"
   ]
  },
  {
   "cell_type": "markdown",
   "metadata": {},
   "source": [
    "## 2. Create an array to store 4 letters. Then change the second letter to a number and print the array on one line."
   ]
  },
  {
   "cell_type": "code",
   "execution_count": 208,
   "metadata": {},
   "outputs": [
    {
     "name": "stdout",
     "output_type": "stream",
     "text": [
      "['a', 2, 'w', 'p']\n"
     ]
    }
   ],
   "source": [
    "letters = [\"a\", \"r\", \"w\", \"p\"]\n",
    "letters[1] = 2\n",
    "print(letters)"
   ]
  },
  {
   "cell_type": "markdown",
   "metadata": {},
   "source": [
    "## 3. Create an array to store 5 numbers. Then print out each number on separate lines with a while loop."
   ]
  },
  {
   "cell_type": "code",
   "execution_count": 210,
   "metadata": {},
   "outputs": [
    {
     "name": "stdout",
     "output_type": "stream",
     "text": [
      "3\n",
      "2\n",
      "1\n",
      "5\n",
      "3\n"
     ]
    }
   ],
   "source": [
    "numbers = [3, 2, 1, 5, 3]\n",
    "i = 0\n",
    "while i < len(numbers):\n",
    "    print(numbers[i])\n",
    "    i += 1"
   ]
  },
  {
   "cell_type": "markdown",
   "metadata": {},
   "source": [
    "## 4. Create an array to store 1 number. Then add three more numbers to the array and print the array on one line."
   ]
  },
  {
   "cell_type": "code",
   "execution_count": 213,
   "metadata": {},
   "outputs": [
    {
     "name": "stdout",
     "output_type": "stream",
     "text": [
      "[3, 73, 57, 39]\n"
     ]
    }
   ],
   "source": [
    "array = [3]\n",
    "for i in range(1, 4):\n",
    "    array.append(random.randint(1, 100))\n",
    "print(array)"
   ]
  },
  {
   "cell_type": "markdown",
   "metadata": {},
   "source": [
    "## 5. Create an array to store 3 strings with lower case letters. Then change the third string to have all capital letters and print the array on one line."
   ]
  },
  {
   "cell_type": "code",
   "execution_count": 215,
   "metadata": {},
   "outputs": [
    {
     "name": "stdout",
     "output_type": "stream",
     "text": [
      "['hello', 'hello', 'HELLO']\n"
     ]
    }
   ],
   "source": [
    "strings = [\"hello\", \"hello\", \"hello\"]\n",
    "strings[2] = strings[2].upper()\n",
    "print(strings)"
   ]
  },
  {
   "cell_type": "markdown",
   "metadata": {},
   "source": [
    "# 04-arrays-hashes2.md"
   ]
  },
  {
   "cell_type": "markdown",
   "metadata": {},
   "source": [
    "## 1. Make a hash to store a person's first name, last name, and email address. Then print each attribute on separate lines."
   ]
  },
  {
   "cell_type": "code",
   "execution_count": 222,
   "metadata": {},
   "outputs": [
    {
     "name": "stdout",
     "output_type": "stream",
     "text": [
      "Ada\n",
      "Lovelace\n",
      "ada.lovelace@email.com\n"
     ]
    }
   ],
   "source": [
    "person = {\n",
    "  \"first_name\": \"Ada\",\n",
    "  \"last_name\": \"Lovelace\",\n",
    "  \"email\": \"ada.lovelace@email.com\"\n",
    "}\n",
    "for value in person.values():\n",
    "    print(value)"
   ]
  },
  {
   "cell_type": "markdown",
   "metadata": {},
   "source": [
    "## 2. Make an array of hashes to store the first name and last name for 3 different people. Then print out the first person's info."
   ]
  },
  {
   "cell_type": "code",
   "execution_count": 227,
   "metadata": {},
   "outputs": [
    {
     "name": "stdout",
     "output_type": "stream",
     "text": [
      "{'first_name': 'Grace', 'last_name': 'Hopper'}\n"
     ]
    }
   ],
   "source": [
    "people = [\n",
    "  { \"first_name\": \"Grace\", \"last_name\": \"Hopper\" },\n",
    "  { \"first_name\": \"Mace\", \"last_name\": \"Windu\" },\n",
    "  { \"first_name\": \"Robert\", \"last_name\": \"Chase\" }\n",
    "]\n",
    "print(people[0])"
   ]
  },
  {
   "cell_type": "markdown",
   "metadata": {},
   "source": [
    "## 3. Make a hash to store prices for 3 different menu items. Then add a new menu item and price and print the hash to see the result."
   ]
  },
  {
   "cell_type": "code",
   "execution_count": 228,
   "metadata": {},
   "outputs": [
    {
     "name": "stdout",
     "output_type": "stream",
     "text": [
      "{'sandwich': 4, 'soda': 2, 'juice': 3, 'coffee': 2}\n"
     ]
    }
   ],
   "source": [
    "menu = { \"sandwich\": 4, \"soda\": 2, \"juice\": 3 }\n",
    "menu[\"coffee\"] = 2\n",
    "print(menu)\n"
   ]
  },
  {
   "cell_type": "markdown",
   "metadata": {},
   "source": [
    "## 4. Make a hash to store a book's title, author, number of pages, and language. Then print each attribute on separate lines."
   ]
  },
  {
   "cell_type": "code",
   "execution_count": 230,
   "metadata": {},
   "outputs": [
    {
     "name": "stdout",
     "output_type": "stream",
     "text": [
      "title: The Art of Game Design\n",
      "author: Jesse Schell\n",
      "pages: 520\n",
      "language: English\n"
     ]
    }
   ],
   "source": [
    "book = {\n",
    "    \"title\": \"The Art of Game Design\",\n",
    "    \"author\": \"Jesse Schell\",\n",
    "    \"pages\": 520,\n",
    "    \"language\":\n",
    "    \"English\"\n",
    "}\n",
    "for key, value in book.items():\n",
    "    print(f\"{key}: {value}\")"
   ]
  },
  {
   "cell_type": "markdown",
   "metadata": {},
   "source": [
    "## 5. Make an array of hashes to store the title and author for 3 different books. Then print out the third book's author."
   ]
  },
  {
   "cell_type": "code",
   "execution_count": 231,
   "metadata": {},
   "outputs": [
    {
     "name": "stdout",
     "output_type": "stream",
     "text": [
      "Jef Raskin\n"
     ]
    }
   ],
   "source": [
    "books = [\n",
    "  { \"title\": \"Reality is Broken\", \"author\": \"Jane McGonigal\" },\n",
    "  { \"title\": \"Code\", \"author\": \"Charles Petzlod\" },\n",
    "  { \"title\": \"The Humane Interface\", \"author\": \"Jef Raskin\" }\n",
    "]\n",
    "print(books[2][\"author\"])"
   ]
  },
  {
   "cell_type": "markdown",
   "metadata": {},
   "source": [
    "## 6. Make a hash to store 3 different states and their capitals. Then add a new state and capital and print the hash to see the result."
   ]
  },
  {
   "cell_type": "code",
   "execution_count": 232,
   "metadata": {},
   "outputs": [
    {
     "name": "stdout",
     "output_type": "stream",
     "text": [
      "{'California': 'Sacremento', 'Illinois': 'Springfield', 'New York': 'Albany', 'Arkansas': 'Little Rock'}\n"
     ]
    }
   ],
   "source": [
    "capitals = {\n",
    "    \"California\": \"Sacremento\",\n",
    "    \"Illinois\": \"Springfield\",\n",
    "    \"New York\": \"Albany\"\n",
    "}\n",
    "capitals[\"Arkansas\"] = \"Little Rock\"\n",
    "print(capitals)"
   ]
  },
  {
   "cell_type": "markdown",
   "metadata": {},
   "source": [
    "## 7. Make a hash to store a laptop's brand, model, and year. Then print each attribute on separate lines."
   ]
  },
  {
   "cell_type": "code",
   "execution_count": 233,
   "metadata": {},
   "outputs": [
    {
     "name": "stdout",
     "output_type": "stream",
     "text": [
      "brand: Apple\n",
      "model: MacBook Air\n",
      "year: 2014\n"
     ]
    }
   ],
   "source": [
    "laptop = { \"brand\": \"Apple\", \"model\": \"MacBook Air\", \"year\": 2014 }\n",
    "for key, value in laptop.items():\n",
    "    print(f\"{key}: {value}\")"
   ]
  },
  {
   "cell_type": "markdown",
   "metadata": {},
   "source": [
    "## 8. Make an array of hashes to store the brand and model for 3 different laptops. Then print out the second laptop's model."
   ]
  },
  {
   "cell_type": "code",
   "execution_count": 234,
   "metadata": {},
   "outputs": [
    {
     "name": "stdout",
     "output_type": "stream",
     "text": [
      "Thinkpad\n"
     ]
    }
   ],
   "source": [
    "laptops = [\n",
    "    { \"brand\": \"Apple\", \"model\": \"MacBook Air\", \"year\": 2014 },\n",
    "    { \"brand\": \"Lenovo\", \"model\": \"Thinkpad\", \"year\": 2016 },\n",
    "    { \"brand\": \"Apple\", \"model\": \"MacBook Pro\", \"year\": 2024 },\n",
    "]\n",
    "print(laptops[1][\"model\"])"
   ]
  },
  {
   "cell_type": "markdown",
   "metadata": {},
   "source": [
    "## 9. Make a hash to store definitions for 2 different words. Then add a new word and definition and print the hash to see the result."
   ]
  },
  {
   "cell_type": "code",
   "execution_count": 235,
   "metadata": {},
   "outputs": [
    {
     "name": "stdout",
     "output_type": "stream",
     "text": [
      "{'bad': 'of poor quality or a low standard', 'mad': 'very angry', 'sad': 'feelings of unhappiness'}\n"
     ]
    }
   ],
   "source": [
    "dictionary = { \"bad\": \"of poor quality or a low standard\", \"mad\": \"very angry\" }\n",
    "dictionary[\"sad\"] = \"feelings of unhappiness\"\n",
    "print(dictionary)"
   ]
  }
 ],
 "metadata": {
  "kernelspec": {
   "display_name": ".venv",
   "language": "python",
   "name": "python3"
  },
  "language_info": {
   "codemirror_mode": {
    "name": "ipython",
    "version": 3
   },
   "file_extension": ".py",
   "mimetype": "text/x-python",
   "name": "python",
   "nbconvert_exporter": "python",
   "pygments_lexer": "ipython3",
   "version": "3.9.6"
  }
 },
 "nbformat": 4,
 "nbformat_minor": 2
}
