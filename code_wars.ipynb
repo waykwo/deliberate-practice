{
 "cells": [
  {
   "cell_type": "markdown",
   "metadata": {},
   "source": [
    "Given an array of numbers, check if any of the numbers are the character codes for lower case vowels (a, e, i, o, u).\n",
    "\n",
    "If they are, change the array value to a string of that vowel.\n",
    "\n",
    "Return the resulting array."
   ]
  }
 ],
 "metadata": {
  "language_info": {
   "name": "python"
  }
 },
 "nbformat": 4,
 "nbformat_minor": 2
}
