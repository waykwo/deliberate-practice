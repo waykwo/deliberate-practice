{
 "cells": [
  {
   "cell_type": "markdown",
   "metadata": {},
   "source": [
    "# 01-variables1.md"
   ]
  },
  {
   "cell_type": "markdown",
   "metadata": {},
   "source": [
    "## 1. Write a program that uses a variable to store a number, then prints that number plus 10."
   ]
  },
  {
   "cell_type": "code",
   "execution_count": 1,
   "metadata": {},
   "outputs": [
    {
     "name": "stdout",
     "output_type": "stream",
     "text": [
      "16\n"
     ]
    }
   ],
   "source": [
    "number = 6\n",
    "print(number + 10)"
   ]
  },
  {
   "cell_type": "markdown",
   "metadata": {},
   "source": [
    "## 2. Write a program that uses a variable to store a word, then prints that word with all capital letters."
   ]
  },
  {
   "cell_type": "code",
   "execution_count": 2,
   "metadata": {},
   "outputs": [
    {
     "name": "stdout",
     "output_type": "stream",
     "text": [
      "HELLO\n"
     ]
    }
   ],
   "source": [
    "word = \"hello\"\n",
    "print(word.upper())"
   ]
  },
  {
   "cell_type": "markdown",
   "metadata": {},
   "source": [
    "## 3. Write a program that uses variables to store two numbers, then prints the numbers added together."
   ]
  },
  {
   "cell_type": "code",
   "execution_count": 3,
   "metadata": {},
   "outputs": [
    {
     "name": "stdout",
     "output_type": "stream",
     "text": [
      "9\n"
     ]
    }
   ],
   "source": [
    "num_1 = 3\n",
    "num_2 = 6\n",
    "print(num_1 + num_2)"
   ]
  },
  {
   "cell_type": "markdown",
   "metadata": {},
   "source": [
    "## 4. Write a program that uses a variable to store a word, then prints that word in reverse order."
   ]
  },
  {
   "cell_type": "code",
   "execution_count": 4,
   "metadata": {},
   "outputs": [
    {
     "name": "stdout",
     "output_type": "stream",
     "text": [
      "olleh\n"
     ]
    }
   ],
   "source": [
    "word = \"hello\"\n",
    "reversed = \"\"\n",
    "for i in range(1, len(word)):\n",
    "    # print(word[i * -1])\n",
    "    reversed += word[i * -1]\n",
    "# print(word[0])\n",
    "# print(\"===\")\n",
    "reversed += word[0]\n",
    "print(reversed)"
   ]
  },
  {
   "cell_type": "code",
   "execution_count": 5,
   "metadata": {},
   "outputs": [
    {
     "name": "stdout",
     "output_type": "stream",
     "text": [
      "dlrow\n"
     ]
    }
   ],
   "source": [
    "#   Alt\n",
    "word = \"world\"\n",
    "print(word[::-1])"
   ]
  },
  {
   "cell_type": "markdown",
   "metadata": {},
   "source": [
    "## 5. Write a program that uses a variable to store a number, then prints the number times 10."
   ]
  },
  {
   "cell_type": "code",
   "execution_count": 6,
   "metadata": {},
   "outputs": [
    {
     "name": "stdout",
     "output_type": "stream",
     "text": [
      "80\n"
     ]
    }
   ],
   "source": [
    "number = 8\n",
    "print(number * 10)"
   ]
  },
  {
   "cell_type": "markdown",
   "metadata": {},
   "source": [
    "## 6. Write a program that uses variables to store two words, then prints both words on the same line in all capital letters."
   ]
  },
  {
   "cell_type": "code",
   "execution_count": 7,
   "metadata": {},
   "outputs": [
    {
     "name": "stdout",
     "output_type": "stream",
     "text": [
      "HELLOWORLD\n"
     ]
    }
   ],
   "source": [
    "word_1 = \"hello\"\n",
    "word_2 = \"world\"\n",
    "print(word_1.upper() + word_2.upper())"
   ]
  },
  {
   "cell_type": "markdown",
   "metadata": {},
   "source": [
    "## 7. Write a program that uses a variable to store a word, then prints the number of letters in the word."
   ]
  },
  {
   "cell_type": "code",
   "execution_count": 8,
   "metadata": {},
   "outputs": [
    {
     "name": "stdout",
     "output_type": "stream",
     "text": [
      "45\n"
     ]
    }
   ],
   "source": [
    "word = \"Pneumonoultramicroscopicsilicovolcanoconiosis\"\n",
    "print(len(word))"
   ]
  },
  {
   "cell_type": "markdown",
   "metadata": {},
   "source": [
    "## 8. Write a program that uses a variable to store a number with decimals, then prints the number as an integer."
   ]
  },
  {
   "cell_type": "code",
   "execution_count": 9,
   "metadata": {},
   "outputs": [
    {
     "name": "stdout",
     "output_type": "stream",
     "text": [
      "3\n"
     ]
    }
   ],
   "source": [
    "number = 3.14159265\n",
    "print(int(number))"
   ]
  },
  {
   "cell_type": "markdown",
   "metadata": {},
   "source": [
    "# 01-variables2.md"
   ]
  },
  {
   "cell_type": "markdown",
   "metadata": {},
   "source": [
    "## 2. Write a program that uses variables to store a first and last name, then prints the full name in one line using string interpolation (the #{} operator)."
   ]
  },
  {
   "cell_type": "code",
   "execution_count": 10,
   "metadata": {},
   "outputs": [
    {
     "name": "stdout",
     "output_type": "stream",
     "text": [
      "Sherlock Holmes\n"
     ]
    }
   ],
   "source": [
    "first = \"Sherlock\"\n",
    "last = \"Holmes\"\n",
    "print(f\"{first} {last}\")"
   ]
  },
  {
   "cell_type": "markdown",
   "metadata": {},
   "source": [
    "## 3. Write a program that asks the user to input a word. If the word is \"marco\", print \"polo\"."
   ]
  },
  {
   "cell_type": "code",
   "execution_count": 11,
   "metadata": {},
   "outputs": [],
   "source": [
    "word = input(\"Please enter a word: \")\n",
    "if word == \"marco\":\n",
    "    print(\"polo\")"
   ]
  },
  {
   "cell_type": "markdown",
   "metadata": {},
   "source": [
    "## 4. Write a program that uses variables to store three different colors, then prints out a sentence using the colors with string concatenation (the + operator)."
   ]
  },
  {
   "cell_type": "code",
   "execution_count": 12,
   "metadata": {},
   "outputs": [
    {
     "name": "stdout",
     "output_type": "stream",
     "text": [
      "The colours are: red, green, and blue.\n"
     ]
    }
   ],
   "source": [
    "colour1 = \"red\"\n",
    "colour2 = \"green\"\n",
    "colour3 = \"blue\"\n",
    "print(\"The colours are: \" + colour1 + \", \" + colour2 + \", and \" + colour3 + \".\")"
   ]
  },
  {
   "cell_type": "markdown",
   "metadata": {},
   "source": [
    "## 5. Write a program that uses variables to store three different colors, then prints out a sentence using the colors with string interpolation (the #{} operator)."
   ]
  },
  {
   "cell_type": "code",
   "execution_count": 13,
   "metadata": {},
   "outputs": [
    {
     "name": "stdout",
     "output_type": "stream",
     "text": [
      "The colours are: red, green, and blue.\n"
     ]
    }
   ],
   "source": [
    "colour1 = \"red\"\n",
    "colour2 = \"green\"\n",
    "colour3 = \"blue\"\n",
    "print(f\"The colours are: {colour1}, {colour2}, and {colour3}.\")"
   ]
  },
  {
   "cell_type": "markdown",
   "metadata": {},
   "source": [
    "## 6. Write a program that asks the user to enter a name. If the name is not \"Santa\", print \"You're not Santa.\""
   ]
  },
  {
   "cell_type": "code",
   "execution_count": 14,
   "metadata": {},
   "outputs": [
    {
     "name": "stdout",
     "output_type": "stream",
     "text": [
      "You're not Santa.\n"
     ]
    }
   ],
   "source": [
    "name = input(\"What is your name?: \")\n",
    "if name != \"Santa\":\n",
    "    print(\"You're not Santa.\")"
   ]
  },
  {
   "cell_type": "markdown",
   "metadata": {},
   "source": [
    "## 9. Write a program that asks the user to enter a password. If the password is \"Joshua\", the program responds \"Shall we play a game?\". For any other password, the program responds \"Access denied\""
   ]
  },
  {
   "cell_type": "code",
   "execution_count": 17,
   "metadata": {},
   "outputs": [
    {
     "name": "stdout",
     "output_type": "stream",
     "text": [
      "Access denied\n"
     ]
    }
   ],
   "source": [
    "password = input(\"Please enter a password: \")\n",
    "if password == \"Joshua\":\n",
    "    print(\"Shall we play a game?\")\n",
    "else:\n",
    "    print(\"Access denied\")"
   ]
  },
  {
   "cell_type": "markdown",
   "metadata": {},
   "source": [
    "# 02-conditionals1.md"
   ]
  },
  {
   "cell_type": "markdown",
   "metadata": {},
   "source": [
    "## 2. Use a variable to store a number, then write a condition that prints -1 if the number is less than 10, prints 1 if the number is greater than 10, and prints 0 if the number is equal to 10."
   ]
  },
  {
   "cell_type": "code",
   "execution_count": 24,
   "metadata": {},
   "outputs": [
    {
     "name": "stdout",
     "output_type": "stream",
     "text": [
      "0\n",
      "10\n"
     ]
    }
   ],
   "source": [
    "import random\n",
    "\n",
    "number = random.randint(1, 20)\n",
    "if number < 10:\n",
    "    print(-1)\n",
    "elif number > 10:\n",
    "    print(1)\n",
    "else:\n",
    "    print(0)\n",
    "print(number)"
   ]
  },
  {
   "cell_type": "markdown",
   "metadata": {},
   "source": [
    "## 3. Use variables to store two numbers, then write a condition that prints 1 if the numbers are both less than 10, and prints 0 otherwise."
   ]
  },
  {
   "cell_type": "code",
   "execution_count": 35,
   "metadata": {},
   "outputs": [
    {
     "name": "stdout",
     "output_type": "stream",
     "text": [
      "1\n",
      "5 1\n"
     ]
    }
   ],
   "source": [
    "import random\n",
    "\n",
    "num1 = random.randint(1, 20)\n",
    "num2 = random.randint(1, 20)\n",
    "if num1 < 10 and num2 < 10:\n",
    "    print(1)\n",
    "else:\n",
    "    print(0)\n",
    "print(num1, num2)"
   ]
  },
  {
   "cell_type": "markdown",
   "metadata": {},
   "source": [
    "## 10. Use a variable to store a number, then write a condition that prints 5 if the number is greater than 80, prints 4 if the number is greater than 60, prints 3 if the number is greater than 40, prints 2 if the number is greater than 20, and prints 1 otherwise (only one print statement should occur)."
   ]
  },
  {
   "cell_type": "code",
   "execution_count": 43,
   "metadata": {},
   "outputs": [
    {
     "name": "stdout",
     "output_type": "stream",
     "text": [
      "4\n",
      "79\n"
     ]
    }
   ],
   "source": [
    "import random\n",
    "\n",
    "number = random.randint(1, 100)\n",
    "if number > 80:\n",
    "    print(5)\n",
    "elif number > 60:\n",
    "    print(4)\n",
    "elif number > 40:\n",
    "    print(3)\n",
    "elif number > 20:\n",
    "    print(2)\n",
    "else:\n",
    "    print(1)\n",
    "print(number)"
   ]
  },
  {
   "cell_type": "markdown",
   "metadata": {},
   "source": [
    "# 02-conditionals3.md"
   ]
  },
  {
   "cell_type": "markdown",
   "metadata": {},
   "source": [
    "## 1. Write a program that stores a customer's age and a movie's time in two separate variables. Then calculate the price of a movie ticket based on the following conditions:\n",
    "- If the age is 12 years old or younger, the ticket price is $5.\n",
    "- If the age is between 13 and 59 years old and the movie is before 6 PM, the ticket price is $7. After 6 PM, the ticket price is $10.\n",
    "- If the customer is 60 years old or older, the ticket price is $7."
   ]
  },
  {
   "cell_type": "code",
   "execution_count": 64,
   "metadata": {},
   "outputs": [
    {
     "name": "stdout",
     "output_type": "stream",
     "text": [
      "Age: 24, Time: 7, Price; 10\n"
     ]
    }
   ],
   "source": [
    "import random\n",
    "\n",
    "age = random.randint(4, 70)\n",
    "movie_time = random.randint(1, 10)\n",
    "\n",
    "if age <= 12:\n",
    "    price = 5\n",
    "elif (age >= 60) or (age > 13 and movie_time < 6):\n",
    "    price = 7\n",
    "else:\n",
    "    price = 10\n",
    "print(f\"Age: {age}, Time: {movie_time}, Price; {price}\")"
   ]
  }
 ],
 "metadata": {
  "kernelspec": {
   "display_name": ".venv",
   "language": "python",
   "name": "python3"
  },
  "language_info": {
   "codemirror_mode": {
    "name": "ipython",
    "version": 3
   },
   "file_extension": ".py",
   "mimetype": "text/x-python",
   "name": "python",
   "nbconvert_exporter": "python",
   "pygments_lexer": "ipython3",
   "version": "3.9.6"
  }
 },
 "nbformat": 4,
 "nbformat_minor": 2
}
